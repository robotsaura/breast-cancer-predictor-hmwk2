{
 "cells": [
  {
   "cell_type": "code",
   "execution_count": null,
   "id": "e24ce571",
   "metadata": {},
   "outputs": [],
   "source": [
    "from flask import Flask, request, render_template\n",
    "import pickle\n",
    "\n",
    "app = Flask(__name__)\n",
    "\n",
    "# Load the trained model\n",
    "with open(\"nb_model.pkl\", \"rb\") as file:\n",
    "    model = pickle.load(file)\n",
    "\n",
    "@app.route(\"/\")\n",
    "def index():\n",
    "    return render_template(\"index.html\")\n",
    "\n",
    "@app.route(\"/predict\", methods=[\"POST\"])\n",
    "def predict():\n",
    "    # Retrieve user input\n",
    "    feature1 = float(request.form[\"feature1\"])\n",
    "    feature2 = float(request.form[\"feature2\"])\n",
    "    \n",
    "    # Run the input through the model for prediction\n",
    "    prediction = model.predict([[feature1, feature2]])[0]\n",
    "    \n",
    "    # Display the prediction result\n",
    "    if prediction == 0:\n",
    "        result = \"Benign\"\n",
    "    else:\n",
    "        result = \"Malignant\"\n",
    "    \n",
    "    return f\"The predicted tumor type is: {result}\"\n",
    "\n",
    "if __name__ == \"__main__\":\n",
    "    app.run(debug=True)\n"
   ]
  }
 ],
 "metadata": {
  "kernelspec": {
   "display_name": "Python 3 (ipykernel)",
   "language": "python",
   "name": "python3"
  },
  "language_info": {
   "codemirror_mode": {
    "name": "ipython",
    "version": 3
   },
   "file_extension": ".py",
   "mimetype": "text/x-python",
   "name": "python",
   "nbconvert_exporter": "python",
   "pygments_lexer": "ipython3",
   "version": "3.11.5"
  }
 },
 "nbformat": 4,
 "nbformat_minor": 5
}
